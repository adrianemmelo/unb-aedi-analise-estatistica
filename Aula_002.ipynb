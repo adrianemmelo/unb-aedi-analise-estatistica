{
 "cells": [
  {
   "cell_type": "markdown",
   "id": "d14e2976",
   "metadata": {},
   "source": [
    "# AEDI - Análise Estatística de Dados e Informações\n",
    "\n",
    "#### Aula 002 - 30/07/2021\n",
    "_Professor Dr. João Gabriel de Moraes_"
   ]
  },
  {
   "cell_type": "markdown",
   "id": "1c940dc5",
   "metadata": {},
   "source": [
    "**Exercício em Aula**"
   ]
  },
  {
   "cell_type": "markdown",
   "id": "cd7ec0e2",
   "metadata": {},
   "source": [
    "* Um aluno de AEDI (MMQD1) criou um modelo para prever recessões. O modelo prevê uma recessão, com probabilidade de 80%, quando a recessão está realmente chegando e com probabilidade de 10%, quando a recessão não chegará (falso positivo). A probabilidade incondicional de cair em uma recessão é de 20%. Se o modelo prevê uma recessão, qual é a probabilidade de que uma recessão realmente virá?"
   ]
  },
  {
   "cell_type": "markdown",
   "id": "3a174256",
   "metadata": {},
   "source": [
    "<img src=\"img/aula_002_enunciado_questao_003.JPG\">"
   ]
  },
  {
   "cell_type": "markdown",
   "id": "3837b774",
   "metadata": {},
   "source": [
    "<img src=\"img/aula_002_enunciado_questao_002.JPG\">"
   ]
  },
  {
   "cell_type": "code",
   "execution_count": 12,
   "id": "deb3049f",
   "metadata": {},
   "outputs": [],
   "source": [
    "p_rec_and_verd = 0.8\n",
    "p_Nrec_and_verd = 0.2\n",
    "p_rec_and_Nverd = 0.1\n",
    "p_Nrec_and_Nverd = 0.9\n",
    "\n",
    "p_verd = 0.2\n",
    "p_Nverd  = 0.8\n"
   ]
  },
  {
   "cell_type": "code",
   "execution_count": 19,
   "id": "f7d60eeb",
   "metadata": {},
   "outputs": [
    {
     "name": "stdout",
     "output_type": "stream",
     "text": [
      "Resultado : 66.67 %\n"
     ]
    }
   ],
   "source": [
    "resultado = ( p_rec_and_verd * p_verd ) / (  p_rec_and_verd * p_verd  + p_rec_and_Nverd * p_Nverd  )\n",
    "resultado\n",
    "\n",
    "resultado_percent =  round((resultado * 100 ), 2)\n",
    "\n",
    "print('Resultado : ' + str(resultado_percent) + ' %')"
   ]
  },
  {
   "cell_type": "code",
   "execution_count": null,
   "id": "c00550c3",
   "metadata": {},
   "outputs": [],
   "source": []
  },
  {
   "cell_type": "code",
   "execution_count": null,
   "id": "77b3fe77",
   "metadata": {},
   "outputs": [],
   "source": []
  }
 ],
 "metadata": {
  "kernelspec": {
   "display_name": "Python 3 (ipykernel)",
   "language": "python",
   "name": "python3"
  },
  "language_info": {
   "codemirror_mode": {
    "name": "ipython",
    "version": 3
   },
   "file_extension": ".py",
   "mimetype": "text/x-python",
   "name": "python",
   "nbconvert_exporter": "python",
   "pygments_lexer": "ipython3",
   "version": "3.9.2"
  }
 },
 "nbformat": 4,
 "nbformat_minor": 5
}

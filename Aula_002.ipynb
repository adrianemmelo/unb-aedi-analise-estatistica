{
 "cells": [
  {
   "cell_type": "markdown",
   "id": "d14e2976",
   "metadata": {},
   "source": [
    "# AEDI - Análise Estatística de Dados e Informações\n",
    "\n",
    "#### Aula 002 - 30/07/2021\n",
    "_Professor Dr. João Gabriel de Moraes_"
   ]
  },
  {
   "cell_type": "markdown",
   "id": "1c940dc5",
   "metadata": {},
   "source": [
    "**Exercício em Aula**"
   ]
  },
  {
   "cell_type": "markdown",
   "id": "cd7ec0e2",
   "metadata": {},
   "source": [
    ">Um aluno de AEDI (MMQD1) criou um modelo para prever recessões. O modelo prevê uma recessão, com probabilidade de 80%, quando a recessão está realmente chegando e com probabilidade de 10%, quando a recessão não chegará (falso positivo). A probabilidade incondicional de cair em uma recessão é de 20%. Se o modelo prevê uma recessão, qual é a probabilidade de que uma recessão realmente virá?"
   ]
  },
  {
   "cell_type": "markdown",
   "id": "3a174256",
   "metadata": {},
   "source": [
    "<img src=\"img/aula_002_enunciado_questao_003.JPG\">"
   ]
  },
  {
   "cell_type": "markdown",
   "id": "51ecd69d",
   "metadata": {},
   "source": [
    ">Código em Latex:"
   ]
  },
  {
   "cell_type": "markdown",
   "id": "cb49edc7",
   "metadata": {},
   "source": [
    "<hr>"
   ]
  },
  {
   "cell_type": "code",
   "execution_count": 34,
   "id": "a9aea872",
   "metadata": {},
   "outputs": [],
   "source": [
    "from IPython.display import Latex"
   ]
  },
  {
   "cell_type": "code",
   "execution_count": 37,
   "id": "e34d5a48",
   "metadata": {},
   "outputs": [
    {
     "data": {
      "text/latex": [
       "\\begin{eqnarray}\n",
       "\\mathbb{P}(REC|VERD) = 0.8 \\ Complementar \\ \\Rightarrow \\mathbb{P}(\\overline{REC}|VERD) = 0.2 \\\\\n",
       "\\mathbb{P}(REC|\\overline{VERD}) = 0.1 \\ Complementar \\ \\Rightarrow \\mathbb{P}(\\overline{REC}|\\overline{VERD}) = 0.9 \\\\\n",
       "\\mathbb{P}(VERD) = 0.2 \\ Complementar \\ \\Rightarrow \\mathbb{P}(\\overline{VERD}) = 0.8\n",
       "\\end{eqnarray}"
      ],
      "text/plain": [
       "<IPython.core.display.Latex object>"
      ]
     },
     "execution_count": 37,
     "metadata": {},
     "output_type": "execute_result"
    }
   ],
   "source": [
    "\n",
    "\n",
    "Latex(r\"\"\"\\begin{eqnarray}\n",
    "\\mathbb{P}(REC|VERD) = 0.8 \\ Complementar \\ \\Rightarrow \\mathbb{P}(\\overline{REC}|VERD) = 0.2 \\\\\n",
    "\\mathbb{P}(REC|\\overline{VERD}) = 0.1 \\ Complementar \\ \\Rightarrow \\mathbb{P}(\\overline{REC}|\\overline{VERD}) = 0.9 \\\\\n",
    "\\mathbb{P}(VERD) = 0.2 \\ Complementar \\ \\Rightarrow \\mathbb{P}(\\overline{VERD}) = 0.8\n",
    "\\end{eqnarray}\"\"\")\n",
    "\n",
    "\n"
   ]
  },
  {
   "cell_type": "markdown",
   "id": "6505114f",
   "metadata": {},
   "source": [
    "<hr>"
   ]
  },
  {
   "cell_type": "markdown",
   "id": "3837b774",
   "metadata": {},
   "source": [
    "<img src=\"img/aula_002_enunciado_questao_002.JPG\">"
   ]
  },
  {
   "cell_type": "code",
   "execution_count": 12,
   "id": "deb3049f",
   "metadata": {},
   "outputs": [],
   "source": [
    "p_rec_and_verd = 0.8\n",
    "\n",
    "p_Nrec_and_verd = 0.2\n",
    "\n",
    "p_rec_and_Nverd = 0.1\n",
    "\n",
    "p_Nrec_and_Nverd = 0.9\n",
    "\n",
    "p_verd = 0.2\n",
    "\n",
    "p_Nverd  = 0.8\n"
   ]
  },
  {
   "cell_type": "code",
   "execution_count": 25,
   "id": "f7d60eeb",
   "metadata": {},
   "outputs": [
    {
     "name": "stdout",
     "output_type": "stream",
     "text": [
      "Resultado : 66.67 %\n"
     ]
    }
   ],
   "source": [
    "resultado = ( p_rec_and_verd * p_verd ) / (  p_rec_and_verd * p_verd  + p_rec_and_Nverd * p_Nverd  )\n",
    "\n",
    "resultado_percent =  round((resultado * 100 ), 2)\n",
    "\n",
    "print('Resultado : ' + str(resultado_percent) + ' %')"
   ]
  },
  {
   "cell_type": "markdown",
   "id": "69c369bd",
   "metadata": {},
   "source": [
    "### Abaixo exemplos de como utilizar o Latex no python / Jupyter notebook"
   ]
  },
  {
   "cell_type": "markdown",
   "id": "71c31b1d",
   "metadata": {},
   "source": [
    ">Latex no python\n",
    "_https://www.ti-enxame.com/pt/latex/como-escrever-latex-no-ipython-notebook/1068906446/_"
   ]
  },
  {
   "cell_type": "code",
   "execution_count": 29,
   "id": "c00550c3",
   "metadata": {},
   "outputs": [
    {
     "data": {
      "text/latex": [
       "\\begin{eqnarray}\n",
       "\\nabla \\times \\vec{\\mathbf{B}} -\\, \\frac1c\\, \\frac{\\partial\\vec{\\mathbf{E}}}{\\partial t} & = \\frac{4\\pi}{c}\\vec{\\mathbf{j}} \\\\\n",
       "\\nabla \\cdot \\vec{\\mathbf{E}} & = 4 \\pi \\rho \\\\\n",
       "\\nabla \\times \\vec{\\mathbf{E}}\\, +\\, \\frac1c\\, \\frac{\\partial\\vec{\\mathbf{B}}}{\\partial t} & = \\vec{\\mathbf{0}} \\\\\n",
       "\\nabla \\cdot \\vec{\\mathbf{B}} & = 0 \n",
       "\\end{eqnarray}"
      ],
      "text/plain": [
       "<IPython.core.display.Latex object>"
      ]
     },
     "execution_count": 29,
     "metadata": {},
     "output_type": "execute_result"
    }
   ],
   "source": [
    "from IPython.display import Latex\n",
    "\n",
    "\n",
    "Latex(r\"\"\"\\begin{eqnarray}\n",
    "\\nabla \\times \\vec{\\mathbf{B}} -\\, \\frac1c\\, \\frac{\\partial\\vec{\\mathbf{E}}}{\\partial t} & = \\frac{4\\pi}{c}\\vec{\\mathbf{j}} \\\\\n",
    "\\nabla \\cdot \\vec{\\mathbf{E}} & = 4 \\pi \\rho \\\\\n",
    "\\nabla \\times \\vec{\\mathbf{E}}\\, +\\, \\frac1c\\, \\frac{\\partial\\vec{\\mathbf{B}}}{\\partial t} & = \\vec{\\mathbf{0}} \\\\\n",
    "\\nabla \\cdot \\vec{\\mathbf{B}} & = 0 \n",
    "\\end{eqnarray}\"\"\")\n",
    "\n"
   ]
  },
  {
   "cell_type": "code",
   "execution_count": 31,
   "id": "bd181a8c",
   "metadata": {},
   "outputs": [
    {
     "data": {
      "text/latex": [
       "\\begin{eqnarray}\n",
       "f(x;\\mu,\\sigma^2) = \\frac{1}{\\sigma\\sqrt{2\\pi}}\n",
       "e^{ -\\frac{1}{2}\\left(\\frac{x-\\mu}{\\sigma}\\right)^2 }\n",
       "\\end{eqnarray}"
      ],
      "text/plain": [
       "<IPython.core.display.Latex object>"
      ]
     },
     "execution_count": 31,
     "metadata": {},
     "output_type": "execute_result"
    }
   ],
   "source": [
    "Latex(r\"\"\"\\begin{eqnarray}\n",
    "f(x;\\mu,\\sigma^2) = \\frac{1}{\\sigma\\sqrt{2\\pi}}\n",
    "e^{ -\\frac{1}{2}\\left(\\frac{x-\\mu}{\\sigma}\\right)^2 }\n",
    "\\end{eqnarray}\"\"\")"
   ]
  }
 ],
 "metadata": {
  "kernelspec": {
   "display_name": "Python 3 (ipykernel)",
   "language": "python",
   "name": "python3"
  },
  "language_info": {
   "codemirror_mode": {
    "name": "ipython",
    "version": 3
   },
   "file_extension": ".py",
   "mimetype": "text/x-python",
   "name": "python",
   "nbconvert_exporter": "python",
   "pygments_lexer": "ipython3",
   "version": "3.9.2"
  }
 },
 "nbformat": 4,
 "nbformat_minor": 5
}

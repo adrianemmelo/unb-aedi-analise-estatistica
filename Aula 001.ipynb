{
 "cells": [
  {
   "cell_type": "markdown",
   "id": "d6773542",
   "metadata": {},
   "source": [
    "# AEDI - Análise Estatística de Dados e Informações"
   ]
  },
  {
   "cell_type": "code",
   "execution_count": 2,
   "id": "2ea52d56",
   "metadata": {},
   "outputs": [],
   "source": [
    "import numpy as np\n",
    "import pandas as np"
   ]
  },
  {
   "cell_type": "markdown",
   "id": "351afd30",
   "metadata": {},
   "source": [
    "``` Imagine que em um campo de boliche contém 5 bolas pretas e 6 bolas brancas, e a maquina de retorno de bolas apresenta aleatoriamente 2 bolas por vez, qual é a probabilidade de que uma bola sai branca e a outra preta? ```\n"
   ]
  },
  {
   "cell_type": "markdown",
   "id": "b6658ddf",
   "metadata": {},
   "source": [
    "* Calculando o Espaço Amostral"
   ]
  },
  {
   "cell_type": "code",
   "execution_count": 3,
   "id": "1879d13e",
   "metadata": {},
   "outputs": [
    {
     "name": "stdout",
     "output_type": "stream",
     "text": [
      "Espaço amostral ep : 110\n"
     ]
    }
   ],
   "source": [
    "ep_b1 = 11\n",
    "ep_b2 = 10\n",
    "ep = ep_b1 * ep_b2\n",
    "print(\"Espaço amostral ep : \" + str(ep))"
   ]
  },
  {
   "cell_type": "markdown",
   "id": "2b96959f",
   "metadata": {},
   "source": [
    "* Criar possibilidades da 1ª bola branca <br>\n",
    "   _= 6 bolas pretas x 5 bolas brancas_"
   ]
  },
  {
   "cell_type": "code",
   "execution_count": 4,
   "id": "11e669b9",
   "metadata": {},
   "outputs": [
    {
     "name": "stdout",
     "output_type": "stream",
     "text": [
      "30\n"
     ]
    }
   ],
   "source": [
    "b1 = 6 * 5\n",
    "print(b1)"
   ]
  },
  {
   "cell_type": "markdown",
   "id": "2cee0b84",
   "metadata": {},
   "source": [
    "* Criar possibilidades da 1ª bola preta <br>\n",
    "   _= 5 bolas brancas x 6 bolas pretas_"
   ]
  },
  {
   "cell_type": "code",
   "execution_count": 5,
   "id": "0f37f039",
   "metadata": {},
   "outputs": [
    {
     "name": "stdout",
     "output_type": "stream",
     "text": [
      "30\n"
     ]
    }
   ],
   "source": [
    "p1 = 5 * 6 \n",
    "print(p1)"
   ]
  },
  {
   "cell_type": "markdown",
   "id": "6784d52f",
   "metadata": {},
   "source": [
    "* Probabilidade de bola branca \n"
   ]
  },
  {
   "cell_type": "code",
   "execution_count": 6,
   "id": "33eadf7b",
   "metadata": {},
   "outputs": [
    {
     "name": "stdout",
     "output_type": "stream",
     "text": [
      "p_b     : 0.55\n",
      "pb_perc : 54.55 % \n"
     ]
    }
   ],
   "source": [
    "p_b = (b1 + p1) / (ep)\n",
    "print('p_b     : ' + str(round(p_b,2)))\n",
    "p_b_perc =  p_b * 100\n",
    "print('pb_perc : ' + str(round(p_b_perc,2))+ ' % ') "
   ]
  },
  {
   "cell_type": "markdown",
   "id": "ee4383c4",
   "metadata": {},
   "source": [
    "#### Função para calculo de fatorial em python"
   ]
  },
  {
   "cell_type": "markdown",
   "id": "f965e2c3",
   "metadata": {},
   "source": [
    "* Calculo do fatorial"
   ]
  },
  {
   "cell_type": "code",
   "execution_count": 78,
   "id": "ab5f475f",
   "metadata": {},
   "outputs": [],
   "source": [
    "def fatorial(numero):\n",
    "    resultado=1\n",
    "    for n in range(1,numero+1):\n",
    "        resultado *= n\n",
    "    return(resultado)    "
   ]
  },
  {
   "cell_type": "markdown",
   "id": "32c1ead9",
   "metadata": {},
   "source": [
    "* Cálculo da Análise Combinatória"
   ]
  },
  {
   "cell_type": "code",
   "execution_count": 84,
   "id": "a43f246a",
   "metadata": {},
   "outputs": [],
   "source": [
    "def analiseCombinatoria(x, y): \n",
    "    x = int(x)\n",
    "    y = int(y)\n",
    "    numerador = fatorial(int(x))\n",
    "    denominador = fatorial(y) * (fatorial (x - y)) \n",
    "    resultado = numerador / denominador \n",
    "    return resultado"
   ]
  },
  {
   "cell_type": "code",
   "execution_count": 85,
   "id": "220b3c84",
   "metadata": {},
   "outputs": [],
   "source": [
    "def analiseCombinatoria2(x, y): \n",
    "    n = x\n",
    "    for i in range(1, y):   \n",
    "        x = x - 1\n",
    "        n = n * x\n",
    "    numerador = n\n",
    "    denominador =  calcularFatorial(y)\n",
    "    resultado = numerador / denominador \n",
    "    return resultado"
   ]
  },
  {
   "cell_type": "markdown",
   "id": "a9a9e820",
   "metadata": {},
   "source": [
    "##### Exemplo Comitê de Estudos - Resolução\n",
    "\n",
    "*Um comitê de 5 notáveis em análise de decisão é selecionado em um grupo de 6 homens e 9 mulheres. Esse comitê irá julgar a qualidade de projetos de inovação de uma certa empresa. Se forem selecionados aleatoriamente, qual é a probabilidade deste comitê ser composto por 3 homens e 2 mulheres?*"
   ]
  },
  {
   "cell_type": "markdown",
   "id": "14bf9ddd",
   "metadata": {},
   "source": [
    "* Temos 6 homens e 9 mulheres, o que totaliza  15 pessoas\n",
    "* para fazer esta análise de inclusão teremos que escolher 5 pessoas em 15 possíveis ( este é o espaço amostral )\n",
    "* vamos calcular para o espaço amostral uma combinação de 5 em 15 pessoas"
   ]
  },
  {
   "cell_type": "code",
   "execution_count": 94,
   "id": "fdfcbd0d",
   "metadata": {},
   "outputs": [
    {
     "name": "stdout",
     "output_type": "stream",
     "text": [
      "Probabilidade caculada: 23.98%\n"
     ]
    }
   ],
   "source": [
    "# Espaço amostrad e 5 em 15\n",
    "\n",
    "espaco_amostral = analiseCombinatoria(15,5)\n",
    "\n",
    "# analise combinatoria de 3 homens em 6 possíveis\n",
    "\n",
    "homens = analiseCombinatoria(6,3)\n",
    "\n",
    "# analise combinatória de 9 em 2\n",
    "\n",
    "mulheres = analiseCombinatoria(9,2)\n",
    "\n",
    "# Probabilidade\n",
    "\n",
    "probabilidade = ( homens * mulheres ) / espaco_amostral\n",
    "\n",
    "probalilidade_percent = round((probabilidade * 100), 2 )\n",
    "\n",
    "print('Probabilidade caculada: ' + str(probalilidade_percent) + '%')\n"
   ]
  },
  {
   "cell_type": "code",
   "execution_count": null,
   "id": "f8cf49a0",
   "metadata": {},
   "outputs": [],
   "source": []
  },
  {
   "cell_type": "code",
   "execution_count": null,
   "id": "84969ee7",
   "metadata": {},
   "outputs": [],
   "source": []
  }
 ],
 "metadata": {
  "kernelspec": {
   "display_name": "Python 3 (ipykernel)",
   "language": "python",
   "name": "python3"
  },
  "language_info": {
   "codemirror_mode": {
    "name": "ipython",
    "version": 3
   },
   "file_extension": ".py",
   "mimetype": "text/x-python",
   "name": "python",
   "nbconvert_exporter": "python",
   "pygments_lexer": "ipython3",
   "version": "3.9.2"
  }
 },
 "nbformat": 4,
 "nbformat_minor": 5
}
